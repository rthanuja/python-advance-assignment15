{
 "cells": [
  {
   "cell_type": "code",
   "execution_count": null,
   "id": "8006498b",
   "metadata": {},
   "outputs": [],
   "source": [
    "1. What are the new features added in Python 3.8 version?\n",
    "\n",
    "1.The walrus operator:\n",
    "    syntax :=  assigns values to variables as part of a larger expression.\n",
    "2.Positional-only parameters\n",
    "    There is a new function parameter syntax / to indicate that some function parameters must be \n",
    "    specified positionally and cannot be used as keyword arguments.\n",
    "3.f-strings support = for self-documenting expressions and debugging\n",
    "    Added an = specifier to f-strings. An f-string such as f'{expr=}' will expand to the text of the expression, \n",
    "    an equal sign, then the representation of the evaluated expression.\n",
    "4.Dict comprehensions have been synced-up with dict literals so that the key is computed first and the value second.\n",
    "5.csv\n",
    "    The csv.DictReader now returns instances of dict instead of a collections.OrderedDict\n",
    "6.logging\n",
    "    Added a force keyword argument to logging.basicConfig() When set to true, any existing handlers attached to \n",
    "    the root logger are removed and closed before carrying out the configuration specified by the other arguments."
   ]
  },
  {
   "cell_type": "code",
   "execution_count": null,
   "id": "3e9652fe",
   "metadata": {},
   "outputs": [],
   "source": [
    "2. What is monkey patching in Python?\n",
    "\n",
    "Monkey patching in python refers to modifying or updating a piece of code or class or any module at the runtime that is\n",
    "we can change the behavior or working of a class/ module at the runtime without changing the whole python code. \n",
    "\n",
    "#module.py\n",
    "class original:\n",
    "    def module_func(self):\n",
    "        print(\"from module_func\")"
   ]
  },
  {
   "cell_type": "code",
   "execution_count": 1,
   "id": "bc8fdc8f",
   "metadata": {},
   "outputs": [
    {
     "name": "stdout",
     "output_type": "stream",
     "text": [
      "from func1\n"
     ]
    }
   ],
   "source": [
    "import module\n",
    "def func1(self):\n",
    "    print(\"from func1\")\n",
    "\n",
    "module.original.module_func=func1\n",
    "a=module.original()\n",
    "a.module_func()\n"
   ]
  },
  {
   "cell_type": "code",
   "execution_count": null,
   "id": "d490afbf",
   "metadata": {},
   "outputs": [],
   "source": [
    "3. What is the difference between a shallow copy and deep copy?\n",
    "\n",
    "The difference between shallow and deep copying is only relevant for compound objects (objects that contain\n",
    "other objects, like lists or class instances).\n",
    "shallow copy stores the references of objects to the original memory address.so,any changes made to the copied object\n",
    "will be reflected in the original object.\n",
    "deepcopy stores the copy of the original object and recursively copies the objects.any changes made to the copied object\n",
    "will not be reflected in the original object."
   ]
  },
  {
   "cell_type": "code",
   "execution_count": 2,
   "id": "f1bf754e",
   "metadata": {},
   "outputs": [
    {
     "name": "stdout",
     "output_type": "stream",
     "text": [
      "before shallow copy:\n",
      " a:[1, 2, [3, 4]]\n",
      "after shallow copy:\n",
      "a:[1, 2, [3, 5]] a_shallow_copy: [1, 2, [3, 5]]\n",
      "before deep copy:\n",
      "a:[1, 2, [3, 5]]\n",
      "after deep copy:\n",
      "a:[1, 2, [3, 5]] a_deep_copy: [1, 2, [3, 6]]\n"
     ]
    }
   ],
   "source": [
    "import copy\n",
    "a=[1,2,[3,4]]\n",
    "print(\"before shallow copy:\\n a:{}\".format(a))\n",
    "a_shallow_copy=copy.copy(a)\n",
    "a_shallow_copy[2][1]=5\n",
    "print(\"after shallow copy:\\na:{} a_shallow_copy: {}\".format(a,a_shallow_copy))\n",
    "print(\"before deep copy:\\na:{}\".format(a))\n",
    "a_deep_copy=copy.deepcopy(a)\n",
    "a_deep_copy[2][1]=6\n",
    "print(\"after deep copy:\\na:{} a_deep_copy: {}\".format(a,a_deep_copy))\n"
   ]
  },
  {
   "cell_type": "code",
   "execution_count": null,
   "id": "154419ee",
   "metadata": {},
   "outputs": [],
   "source": [
    "4. What is the maximum possible length of an identifier?\n",
    "\n",
    "In python, identifiers are unlimited in length.but PEP8(Python Enhancement Proposal) a document that provides \n",
    "guidelines and best practices on how to write Python code limits all lines to a maximum of 79 characters."
   ]
  },
  {
   "cell_type": "code",
   "execution_count": null,
   "id": "4bd39dfc",
   "metadata": {},
   "outputs": [],
   "source": [
    "5. What is generator comprehension?\n",
    "\n",
    "A generator comprehension is a single-line specification for defining a generator in Python.\n",
    "This single line of code expression is known as a generator comprehension.\n",
    "Syntax:\n",
    "(<expression> for <var> in <iterable> if <condition>)\n"
   ]
  },
  {
   "cell_type": "code",
   "execution_count": 3,
   "id": "144b3afe",
   "metadata": {},
   "outputs": [
    {
     "data": {
      "text/plain": [
       "0"
      ]
     },
     "execution_count": 3,
     "metadata": {},
     "output_type": "execute_result"
    }
   ],
   "source": [
    "a=(i**2 for i in range(10) if i%2==0)\n",
    "next(a)"
   ]
  },
  {
   "cell_type": "code",
   "execution_count": 4,
   "id": "4fda17be",
   "metadata": {},
   "outputs": [
    {
     "data": {
      "text/plain": [
       "4"
      ]
     },
     "execution_count": 4,
     "metadata": {},
     "output_type": "execute_result"
    }
   ],
   "source": [
    "next(a)"
   ]
  },
  {
   "cell_type": "code",
   "execution_count": 5,
   "id": "38682aea",
   "metadata": {},
   "outputs": [
    {
     "data": {
      "text/plain": [
       "16"
      ]
     },
     "execution_count": 5,
     "metadata": {},
     "output_type": "execute_result"
    }
   ],
   "source": [
    "next(a)"
   ]
  },
  {
   "cell_type": "code",
   "execution_count": null,
   "id": "9a21ca82",
   "metadata": {},
   "outputs": [],
   "source": []
  }
 ],
 "metadata": {
  "kernelspec": {
   "display_name": "Python 3 (ipykernel)",
   "language": "python",
   "name": "python3"
  },
  "language_info": {
   "codemirror_mode": {
    "name": "ipython",
    "version": 3
   },
   "file_extension": ".py",
   "mimetype": "text/x-python",
   "name": "python",
   "nbconvert_exporter": "python",
   "pygments_lexer": "ipython3",
   "version": "3.10.9"
  }
 },
 "nbformat": 4,
 "nbformat_minor": 5
}
